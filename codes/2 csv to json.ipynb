{
 "cells": [
  {
   "cell_type": "code",
   "execution_count": null,
   "metadata": {
    "vscode": {
     "languageId": "plaintext"
    }
   },
   "outputs": [],
   "source": [
    "import csv\n",
    "import json\n",
    "\n",
    "# Input and output file paths\n",
    "input_csv = \"input.csv\"  # Replace with your CSV file path\n",
    "output_jsonl = \"output.jsonl\"  # Path for the converted JSONL file\n",
    "\n",
    "# Conversion logic\n",
    "with open(input_csv, mode='r', encoding='utf-8') as csvfile, open(output_jsonl, mode='w', encoding='utf-8') as jsonlfile:\n",
    "    reader = csv.DictReader(csvfile)\n",
    "    \n",
    "    for row in reader:\n",
    "        # Map CSV fields to Dolly format\n",
    "        # Adjust these fields according to the reference JSONL structure\n",
    "        json_obj = {\n",
    "            \"instruction\": row.get(\"instruction\", \"\"),  # Replace with actual CSV column\n",
    "            \"context\": row.get(\"context\", \"\"),          # Replace with actual CSV column\n",
    "            \"response\": row.get(\"response\", \"\"),        # Replace with actual CSV column\n",
    "            \"category\": row.get(\"category\", \"\"),        # Replace with actual CSV column\n",
    "        }\n",
    "        \n",
    "        # Write the JSON object as a line in the JSONL file\n",
    "        jsonlfile.write(json.dumps(json_obj) + '\\n')\n"
   ]
  }
 ],
 "metadata": {
  "language_info": {
   "name": "python"
  }
 },
 "nbformat": 4,
 "nbformat_minor": 2
}
